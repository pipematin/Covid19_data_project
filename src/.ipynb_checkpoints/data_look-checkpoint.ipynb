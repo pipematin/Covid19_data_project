{
 "cells": [
  {
   "cell_type": "code",
   "execution_count": 15,
   "metadata": {},
   "outputs": [],
   "source": [
    "# Path Libraries\n",
    "from pathlib import Path # Path manipulation\n",
    "\n",
    "# Data science Libraries\n",
    "import pandas as pd # Data import, manipulation and processing \n",
    "\n",
    "# System Libraries\n",
    "import os # OS library\n",
    "from datetime import datetime # Datetime data manipulation Library"
   ]
  },
  {
   "cell_type": "code",
   "execution_count": 16,
   "metadata": {},
   "outputs": [
    {
     "name": "stdout",
     "output_type": "stream",
     "text": [
      "2020-04-15 00:00:00\n",
      "2020-05-03 00:00:00\n",
      "2020-05-05 00:00:00\n",
      "2020-06-05 00:00:00\n"
     ]
    }
   ],
   "source": [
    "data_base_folder = Path(\"../data\")\n",
    "spain_data_folder = data_base_folder / \"spain_isciii\"\n",
    "\n",
    "files = os.listdir(spain_data_folder)\n",
    "\n",
    "max_date = datetime.min\n",
    "for file in files:\n",
    "    date = file.rsplit('_', 1)[1][:-4]\n",
    "    date = datetime.strptime(date, '%Y-%m-%d')\n",
    "    if( date > max_date):\n",
    "        max_date = date\n",
    "    print(max_date)\n"
   ]
  },
  {
   "cell_type": "code",
   "execution_count": 18,
   "metadata": {},
   "outputs": [
    {
     "name": "stdout",
     "output_type": "stream",
     "text": [
      "2020-06-05 00:00:00\n"
     ]
    }
   ],
   "source": [
    "print(max_date)"
   ]
  },
  {
   "cell_type": "code",
   "execution_count": null,
   "metadata": {},
   "outputs": [],
   "source": []
  }
 ],
 "metadata": {
  "kernelspec": {
   "display_name": "Python 3",
   "language": "python",
   "name": "python3"
  },
  "language_info": {
   "codemirror_mode": {
    "name": "ipython",
    "version": 3
   },
   "file_extension": ".py",
   "mimetype": "text/x-python",
   "name": "python",
   "nbconvert_exporter": "python",
   "pygments_lexer": "ipython3",
   "version": "3.7.4"
  }
 },
 "nbformat": 4,
 "nbformat_minor": 4
}
