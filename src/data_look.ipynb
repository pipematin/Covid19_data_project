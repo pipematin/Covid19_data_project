{
 "cells": [
  {
   "cell_type": "code",
   "execution_count": 15,
   "metadata": {},
   "outputs": [],
   "source": [
    "# Path Libraries\n",
    "from pathlib import Path # Path manipulation\n",
    "\n",
    "# Data science Libraries\n",
    "import pandas as pd # Data import, manipulation and processing \n",
    "\n",
    "# System Libraries\n",
    "import os # OS library\n",
    "from datetime import datetime # Datetime data manipulation Library"
   ]
  },
  {
   "cell_type": "code",
   "execution_count": 24,
   "metadata": {},
   "outputs": [],
   "source": [
    "def get_max_date_file(files):\n",
    "    max_date = datetime.min\n",
    "    for file in files:\n",
    "        date = file.rsplit('_', 1)[1][:-4]\n",
    "        date = datetime.strptime(date, '%Y-%m-%d')\n",
    "        if( date > max_date):\n",
    "            max_date = date\n",
    "            max_date_file = file\n",
    "    return max_date_file"
   ]
  },
  {
   "cell_type": "code",
   "execution_count": 27,
   "metadata": {},
   "outputs": [],
   "source": [
    "data_base_folder = Path(\"../data\")\n",
    "spain_data_folder = data_base_folder / \"spain_isciii\"\n",
    "\n",
    "files = os.listdir(spain_data_folder)"
   ]
  },
  {
   "cell_type": "code",
   "execution_count": 28,
   "metadata": {},
   "outputs": [
    {
     "data": {
      "text/plain": [
       "'spain_covid19_data_2020-05-05.csv'"
      ]
     },
     "execution_count": 28,
     "metadata": {},
     "output_type": "execute_result"
    }
   ],
   "source": [
    "get_max_date_file(files)"
   ]
  },
  {
   "cell_type": "code",
   "execution_count": null,
   "metadata": {},
   "outputs": [],
   "source": []
  }
 ],
 "metadata": {
  "kernelspec": {
   "display_name": "Python 3",
   "language": "python",
   "name": "python3"
  },
  "language_info": {
   "codemirror_mode": {
    "name": "ipython",
    "version": 3
   },
   "file_extension": ".py",
   "mimetype": "text/x-python",
   "name": "python",
   "nbconvert_exporter": "python",
   "pygments_lexer": "ipython3",
   "version": "3.7.4"
  }
 },
 "nbformat": 4,
 "nbformat_minor": 4
}
